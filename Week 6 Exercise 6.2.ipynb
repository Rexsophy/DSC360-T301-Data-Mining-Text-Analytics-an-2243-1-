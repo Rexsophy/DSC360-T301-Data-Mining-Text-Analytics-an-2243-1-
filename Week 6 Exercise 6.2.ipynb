{
 "cells": [
  {
   "cell_type": "markdown",
   "id": "b67c4e94",
   "metadata": {},
   "source": [
    "#### Week 6 Exercise 6.2 Author: Rex Gayas Course & Section: DSC360-T301 Data Mining: Text Analytics an (2243-1) Date: 20 JAN 2024"
   ]
  },
  {
   "cell_type": "markdown",
   "id": "11b35dbc",
   "metadata": {},
   "source": [
    "##### Using the Amazon Alexa reviews dataset, build a logistic regression model to predict positive or negative feedback based on review text. Be sure to run a test with something random you create (out of sample). Remember: 1 is positive, 0 is negative.\n"
   ]
  },
  {
   "cell_type": "code",
   "execution_count": 40,
   "id": "47428b47",
   "metadata": {},
   "outputs": [
    {
     "name": "stdout",
     "output_type": "stream",
     "text": [
      "   rating       date         variation  \\\n",
      "0       5  31-Jul-18  Charcoal Fabric    \n",
      "1       5  31-Jul-18  Charcoal Fabric    \n",
      "2       4  31-Jul-18    Walnut Finish    \n",
      "3       5  31-Jul-18  Charcoal Fabric    \n",
      "4       5  31-Jul-18  Charcoal Fabric    \n",
      "\n",
      "                                    verified_reviews  feedback  \n",
      "0                                      Love my Echo!         1  \n",
      "1                                          Loved it!         1  \n",
      "2  Sometimes while playing a game, you can answer...         1  \n",
      "3  I have had a lot of fun with this thing. My 4 ...         1  \n",
      "4                                              Music         1  \n"
     ]
    }
   ],
   "source": [
    "import pandas as pd\n",
    "from sklearn.model_selection import train_test_split\n",
    "from sklearn.feature_extraction.text import CountVectorizer\n",
    "from sklearn.linear_model import LogisticRegression\n",
    "from sklearn.metrics import classification_report, accuracy_score\n",
    "\n",
    "# Load the dataset\n",
    "file_path = \"D:\\\\ALPHA\\\\Dynamic Folder\\\\Bellevue\\\\Winter 2023\\\\Data Mining\\\\Week 6\\\\archive\\\\amazon_alexa.tsv\"\n",
    "alexa_reviews = pd.read_csv(file_path, sep='\\t')\n",
    "\n",
    "# Pre-analyze the structure of the dataset\n",
    "print(alexa_reviews.head())\n"
   ]
  },
  {
   "cell_type": "code",
   "execution_count": 41,
   "id": "50c9397f",
   "metadata": {},
   "outputs": [
    {
     "name": "stdout",
     "output_type": "stream",
     "text": [
      "Model Evaluation:\n",
      "              precision    recall  f1-score   support\n",
      "\n",
      "           0       0.48      0.73      0.58        51\n",
      "           1       0.97      0.93      0.95       579\n",
      "\n",
      "    accuracy                           0.91       630\n",
      "   macro avg       0.73      0.83      0.77       630\n",
      "weighted avg       0.93      0.91      0.92       630\n",
      "\n",
      "Accuracy: 0.9142857142857143\n",
      "Test Review Prediction: Positive\n"
     ]
    }
   ],
   "source": [
    "import pandas as pd\n",
    "import re\n",
    "from sklearn.model_selection import train_test_split\n",
    "from sklearn.feature_extraction.text import TfidfVectorizer\n",
    "from sklearn.linear_model import LogisticRegression\n",
    "from sklearn.metrics import classification_report, accuracy_score\n",
    "from sklearn.model_selection import StratifiedShuffleSplit\n",
    "\n",
    "# Load the dataset\n",
    "file_path = \"D:\\\\ALPHA\\\\Dynamic Folder\\\\Bellevue\\\\Winter 2023\\\\Data Mining\\\\Week 6\\\\archive\\\\amazon_alexa.tsv\"\n",
    "alexa_reviews = pd.read_csv(file_path, sep='\\t')\n",
    "\n",
    "# Updated clean_text function to handle non-string inputs\n",
    "def clean_text(text):\n",
    "    # Ensure that the input is a string\n",
    "    if not isinstance(text, str):\n",
    "        return \"\"\n",
    "    \n",
    "    # Remove special characters and numbers\n",
    "    text = re.sub(r'[^A-Za-z\\s]', '', text)\n",
    "    # Convert to lowercase\n",
    "    text = text.lower()\n",
    "    return text\n",
    "\n",
    "# Clean the 'verified_reviews' column\n",
    "alexa_reviews['cleaned_reviews'] = alexa_reviews['verified_reviews'].apply(clean_text)\n",
    "\n",
    "# Initialize TfidfVectorizer\n",
    "tfidf_vectorizer = TfidfVectorizer(max_features=5000)\n",
    "\n",
    "# Fit and transform the cleaned reviews\n",
    "X = tfidf_vectorizer.fit_transform(alexa_reviews['cleaned_reviews'])\n",
    "\n",
    "# Target variable\n",
    "y = alexa_reviews['feedback']\n",
    "\n",
    "# Use stratified sampling to maintain the class distribution\n",
    "sss = StratifiedShuffleSplit(n_splits=1, test_size=0.2, random_state=42)\n",
    "\n",
    "# Perform the split\n",
    "for train_index, test_index in sss.split(X, y):\n",
    "    X_train, X_test = X[train_index], X[test_index]\n",
    "    y_train, y_test = y[train_index], y[test_index]\n",
    "\n",
    "# Initialize and train the logistic regression model with balanced class weights\n",
    "logistic_model = LogisticRegression(class_weight='balanced')\n",
    "logistic_model.fit(X_train, y_train)\n",
    "\n",
    "# Predict on the test set\n",
    "y_pred = logistic_model.predict(X_test)\n",
    "\n",
    "# Evaluate the model\n",
    "print(\"Model Evaluation:\")\n",
    "print(classification_report(y_test, y_pred))\n",
    "print(\"Accuracy:\", accuracy_score(y_test, y_pred))\n",
    "\n",
    "# Test the model with an out-of-sample review\n",
    "test_review = \"I loved this product so much that I ordered another one for my friend!\"\n",
    "cleaned_test_review = clean_text(test_review)\n",
    "test_features = tfidf_vectorizer.transform([cleaned_test_review])\n",
    "test_pred = logistic_model.predict(test_features)\n",
    "print(\"Test Review Prediction:\", \"Positive\" if test_pred[0] == 1 else \"Negative\")\n"
   ]
  },
  {
   "cell_type": "markdown",
   "id": "f6f374f8",
   "metadata": {},
   "source": [
    "##### At the end of Chapter 5, the author uses a custom-built class to summarize model performance. This class doesn’t actually exist (from the author) but you can make it a reality. Using the object you have from mnb_predictions, create something similar to the output on page 335. Feel free (but not obligated) to venture further into the label names and numbers (page 336) and confusion matrix (page 337)."
   ]
  },
  {
   "cell_type": "code",
   "execution_count": 42,
   "id": "9183b3fe",
   "metadata": {
    "scrolled": false
   },
   "outputs": [
    {
     "name": "stdout",
     "output_type": "stream",
     "text": [
      "Classification Report:\n",
      "               precision    recall  f1-score   support\n",
      "\n",
      "           0       0.49      0.79      0.61        58\n",
      "           1       0.98      0.92      0.95       572\n",
      "\n",
      "    accuracy                           0.90       630\n",
      "   macro avg       0.73      0.85      0.78       630\n",
      "weighted avg       0.93      0.90      0.91       630\n",
      "\n"
     ]
    },
    {
     "data": {
      "image/png": "[encoded data removed]",
      "text/plain": [
       "<Figure size 800x600 with 2 Axes>"
      ]
     },
     "metadata": {},
     "output_type": "display_data"
    }
   ],
   "source": [
    "import pandas as pd\n",
    "import re\n",
    "from sklearn.feature_extraction.text import TfidfVectorizer\n",
    "from sklearn.linear_model import LogisticRegression\n",
    "from sklearn.model_selection import train_test_split\n",
    "from sklearn.metrics import classification_report, confusion_matrix\n",
    "import matplotlib.pyplot as plt\n",
    "import seaborn as sns\n",
    "\n",
    "# Load the dataset \n",
    "data_path = \"D:\\\\ALPHA\\\\Dynamic Folder\\\\Bellevue\\\\Winter 2023\\\\Data Mining\\\\Week 6\\\\archive\\\\amazon_alexa.tsv\"\n",
    "alexa_reviews = pd.read_csv(data_path, sep='\\t')\n",
    "\n",
    "# Use clean_text function to handle non-string inputs\n",
    "def clean_text(text):\n",
    "    # Convert non-string data to string\n",
    "    text = str(text)\n",
    "    # Remove punctuation and numbers\n",
    "    text = re.sub(r'[^A-Za-z\\s]', '', text)\n",
    "    # Convert to lower case\n",
    "    text = text.lower()\n",
    "    return text\n",
    "\n",
    "# Apply the cleaning function to the reviews\n",
    "alexa_reviews['verified_reviews'] = alexa_reviews['verified_reviews'].apply(clean_text)\n",
    "\n",
    "# Prepare features and target\n",
    "X = alexa_reviews['verified_reviews']\n",
    "y = alexa_reviews['feedback']\n",
    "\n",
    "# Convert text data into numerical format using TfidfVectorizer\n",
    "vectorizer = TfidfVectorizer(max_features=5000)\n",
    "X_vectorized = vectorizer.fit_transform(X)\n",
    "\n",
    "# Split the data into training and testing sets\n",
    "X_train, X_test, y_train, y_test = train_test_split(X_vectorized, y, test_size=0.2, random_state=42)\n",
    "\n",
    "# Train a Logistic Regression model with balanced class weights\n",
    "model = LogisticRegression(class_weight='balanced')\n",
    "model.fit(X_train, y_train)\n",
    "\n",
    "# Make predictions\n",
    "y_pred = model.predict(X_test)\n",
    "\n",
    "# Generate the classification report and confusion matrix\n",
    "report = classification_report(y_test, y_pred)\n",
    "conf_matrix = confusion_matrix(y_test, y_pred)\n",
    "\n",
    "# Print the classification report\n",
    "print(\"Classification Report:\\n\", report)\n",
    "\n",
    "# Plot the confusion matrix\n",
    "plt.figure(figsize=(8, 6))\n",
    "sns.heatmap(conf_matrix, annot=True, fmt='d', cmap='Blues')\n",
    "plt.title('Confusion Matrix')\n",
    "plt.xlabel('Predicted Label')\n",
    "plt.ylabel('True Label')\n",
    "plt.show()\n"
   ]
  },
  {
   "cell_type": "markdown",
   "id": "d69c80e9",
   "metadata": {},
   "source": [
    "Analysis of Results:\n",
    "Chapter 5 discussed the importance of not only accuracy but also precision, recall, and F1-score for a complete understanding of the model's performance, especially when dealing with imbalanced datasets. The Amazon dataset provided insights into customer sentiment towards Alexa products. The results shows that while the model is quite good at predicting positive feedback (with high precision and recall), it struggles more with negative feedback, indicating more false positives and false negatives for that class. Consequently, the classification report and confusion matrix indicates that this model is better at identifying positive reviews than negative ones."
   ]
  }
 ],
 "metadata": {
  "kernelspec": {
   "display_name": "Python 3 (ipykernel)",
   "language": "python",
   "name": "python3"
  },
  "language_info": {
   "codemirror_mode": {
    "name": "ipython",
    "version": 3
   },
   "file_extension": ".py",
   "mimetype": "text/x-python",
   "name": "python",
   "nbconvert_exporter": "python",
   "pygments_lexer": "ipython3",
   "version": "3.9.13"
  }
 },
 "nbformat": 4,
 "nbformat_minor": 5
}
