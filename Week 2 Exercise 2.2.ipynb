{
 "cells": [
  {
   "cell_type": "markdown",
   "id": "1d95f629",
   "metadata": {},
   "source": [
    "#Week 2 Exercise 2.2 Author: Rex Gayas Course & Section: DSC360-T301 Data Mining: Text Analytics an (2243-1)  Date: 10 December 2023"
   ]
  },
  {
   "cell_type": "code",
   "execution_count": 9,
   "id": "da603f84",
   "metadata": {},
   "outputs": [
    {
     "name": "stdout",
     "output_type": "stream",
     "text": [
      "Activity: Do a jigsaw puzzle\n",
      "Key: 8550768\n",
      "Link: https://en.wikipedia.org/wiki/Jigsaw_puzzle\n",
      "Participants: 1\n",
      "Price: $10.00\n",
      "Type: recreational\n",
      "Accessibility: 1\n"
     ]
    }
   ],
   "source": [
    "import requests\n",
    "\n",
    "def retrieve_and_format_activity():\n",
    "    \"\"\"Retrieves a random activity, uses its key to get a specific activity, and prints the details.\"\"\"\n",
    "    # Retrieve a random activity\n",
    "    random_response = requests.get('https://www.boredapi.com/api/activity')\n",
    "    if random_response.status_code != 200:\n",
    "        raise Exception('Failed to retrieve random activity')\n",
    "\n",
    "    activity_key = random_response.json().get('key')\n",
    "\n",
    "    # Retrieve the specific activity using the key\n",
    "    specific_response = requests.get(f'https://www.boredapi.com/api/activity?key={activity_key}')\n",
    "    if specific_response.status_code != 200:\n",
    "        raise Exception('Failed to retrieve activity by key')\n",
    "\n",
    "    activity = specific_response.json()\n",
    "\n",
    "    # Format and print the activity details\n",
    "    print(f\"Activity: {activity.get('activity', 'N/A')}\")\n",
    "    print(f\"Key: {activity.get('key', 'N/A')}\")\n",
    "    print(f\"Link: {activity.get('link', 'N/A')}\")\n",
    "    print(f\"Participants: {activity.get('participants', 'N/A')}\")\n",
    "    print(f\"Price: ${float(activity.get('price', 0)) * 100:.2f}\")\n",
    "    print(f\"Type: {activity.get('type', 'N/A')}\")\n",
    "    print(f\"Accessibility: {activity.get('accessibility', 'N/A')}\")\n",
    "\n",
    "# Execute the function\n",
    "retrieve_and_format_activity()\n"
   ]
  },
  {
   "cell_type": "code",
   "execution_count": null,
   "id": "7a204da8",
   "metadata": {},
   "outputs": [],
   "source": []
  },
  {
   "cell_type": "code",
   "execution_count": null,
   "id": "9f93cd52",
   "metadata": {},
   "outputs": [],
   "source": []
  }
 ],
 "metadata": {
  "kernelspec": {
   "display_name": "Python 3 (ipykernel)",
   "language": "python",
   "name": "python3"
  },
  "language_info": {
   "codemirror_mode": {
    "name": "ipython",
    "version": 3
   },
   "file_extension": ".py",
   "mimetype": "text/x-python",
   "name": "python",
   "nbconvert_exporter": "python",
   "pygments_lexer": "ipython3",
   "version": "3.9.13"
  }
 },
 "nbformat": 4,
 "nbformat_minor": 5
}
