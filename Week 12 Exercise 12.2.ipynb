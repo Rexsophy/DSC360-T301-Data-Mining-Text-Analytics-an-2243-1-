{
 "cells": [
  {
   "cell_type": "markdown",
   "id": "752673cd-a75b-4b82-aa5e-8025253bf930",
   "metadata": {},
   "source": [
    "## Week 12 Exercise 12.2 Author: Rex Gayas Course & Section: DSC360-T301 Data Mining: Text Analytics an (2243-1) Date: 02 MAR 2024"
   ]
  },
  {
   "cell_type": "markdown",
   "id": "3d7c555a-dcec-451f-b8a7-7f69ee71942b",
   "metadata": {},
   "source": [
    "##### Loading the Dataset"
   ]
  },
  {
   "cell_type": "code",
   "execution_count": 62,
   "id": "d009e0b8-79b3-47f7-9de5-6b6f91ba7100",
   "metadata": {},
   "outputs": [
    {
     "name": "stdout",
     "output_type": "stream",
     "text": [
      "                Tweet Id                                          Tweet URL  \\\n",
      "0  \"1167429261210218497\"  https://twitter.com/animalhealthEU/status/1167...   \n",
      "1  \"1167375334670557185\"  https://twitter.com/PennyBrohnUK/status/116737...   \n",
      "2  \"1167237977615097861\"  https://twitter.com/lordbyronaf/status/1167237...   \n",
      "3  \"1167236897078480898\"  https://twitter.com/CountessDavis/status/11672...   \n",
      "4  \"1167228378191204353\"  https://twitter.com/Local12/status/11672283781...   \n",
      "\n",
      "  Tweet Posted Time (UTC)                                      Tweet Content  \\\n",
      "0    30 Aug 2019 13:30:00  Pets change our lives &amp; become a part of o...   \n",
      "1    30 Aug 2019 09:55:43  Another spot of our #morethanmedicine bus in #...   \n",
      "2    30 Aug 2019 00:49:54  What a great team ⁦@HealthSourceOH⁩ ⁦@Local12⁩...   \n",
      "3    30 Aug 2019 00:45:37  What a great team ⁦@HealthSourceOH⁩ ⁦@Local12⁩...   \n",
      "4    30 Aug 2019 00:11:46  What a great team ⁦@HealthSourceOH⁩ ⁦@Local12⁩...   \n",
      "\n",
      "  Tweet Type                Client  Retweets Received  Likes Received  \\\n",
      "0      Tweet  Twitter Ads Composer                  0               4   \n",
      "1      Tweet       Twitter Web App                  0               5   \n",
      "2    ReTweet   Twitter for Android                  0               0   \n",
      "3    ReTweet   Twitter for Android                  0               0   \n",
      "4    ReTweet             TweetDeck                  0               0   \n",
      "\n",
      "   Tweet Location Tweet Language  ...                 Name        Username  \\\n",
      "0        Brussels        English  ...   AnimalhealthEurope  animalhealthEU   \n",
      "1   Pill, Bristol        English  ...       Penny Brohn UK    PennyBrohnUK   \n",
      "2       Ohio, USA        English  ...         Lord ByronAF     lordbyronaf   \n",
      "3             NaN        English  ...  Lisa Countess davis   CountessDavis   \n",
      "4  Cincinnati, OH        English  ...     Local 12/WKRC-TV         Local12   \n",
      "\n",
      "                                            User Bio Verified or Non-Verified  \\\n",
      "0  AnimalhealthEurope represents manufacturers of...             Non-Verified   \n",
      "1  We help people live well with the impact of ca...             Non-Verified   \n",
      "2  It's easier to be who you are, than it is to b...             Non-Verified   \n",
      "3  I am named after @ElvisPresley daughter Lisa M...             Non-Verified   \n",
      "4  Local 12 is #Cincinnati's trusted source for b...                 Verified   \n",
      "\n",
      "                          Profile URL Protected or Non-protected  \\\n",
      "0  https://twitter.com/animalhealthEU              Non-Protected   \n",
      "1    https://twitter.com/PennyBrohnUK              Non-Protected   \n",
      "2     https://twitter.com/lordbyronaf              Non-Protected   \n",
      "3   https://twitter.com/CountessDavis              Non-Protected   \n",
      "4         https://twitter.com/Local12              Non-Protected   \n",
      "\n",
      "  User Followers  User Following  User Account Creation Date Impressions  \n",
      "0           3697             542        17 Dec 2012 09:14:15        7394  \n",
      "1           3227            1571        15 Sep 2010 09:44:02        6454  \n",
      "2           7808            8617        25 Jul 2012 15:43:47           0  \n",
      "3            291              81        26 Jan 2017 18:21:42           0  \n",
      "4         198675             651        02 Sep 2008 20:09:44           0  \n",
      "\n",
      "[5 rows x 21 columns]\n"
     ]
    }
   ],
   "source": [
    "import pandas as pd\n",
    "\n",
    "# Define the file path\n",
    "file_path = \"D:\\\\ALPHA\\\\Dynamic Folder\\\\Bellevue\\\\Winter 2023\\\\Data Mining\\\\Week 5\\\\twitter_sample.csv\"\n",
    "\n",
    "# Load the dataset into a Pandas DataFrame\n",
    "tweets_df = pd.read_csv(file_path)\n",
    "\n",
    "# Display the first few rows of the dataframe to verify\n",
    "print(tweets_df.head())\n"
   ]
  },
  {
   "cell_type": "markdown",
   "id": "2ef26e3c-d049-48f3-b12d-c2aa37af45f2",
   "metadata": {},
   "source": [
    "##### Preparing the spaCy Pipeline"
   ]
  },
  {
   "cell_type": "code",
   "execution_count": 63,
   "id": "a3e669e8-2ebf-44f5-9144-9d33450055ad",
   "metadata": {},
   "outputs": [],
   "source": [
    "import spacy\n",
    "\n",
    "# Load the English tokenizer, tagger, parser, NER and word vectors\n",
    "nlp = spacy.load(\"en_core_web_sm\")\n"
   ]
  },
  {
   "cell_type": "markdown",
   "id": "f55fedad-43c6-4899-960c-ba65fd1ba715",
   "metadata": {},
   "source": [
    "##### Define Matcher and Patterns for Social Causes &  Implement the on_match Callback"
   ]
  },
  {
   "cell_type": "code",
   "execution_count": 82,
   "id": "f1e93c6a-7f3d-4894-8142-6ac3490baf0f",
   "metadata": {},
   "outputs": [],
   "source": [
    "import spacy\n",
    "from spacy.matcher import Matcher, PhraseMatcher\n",
    "\n",
    "# Load the spaCy model\n",
    "nlp = spacy.load(\"en_core_web_sm\")\n",
    "\n",
    "# Initialize the Matcher with the spaCy vocabulary\n",
    "matcher = Matcher(nlp.vocab)\n",
    "\n",
    "# Define an on_match callback function\n",
    "def on_match_callback(matcher, doc, id, matches):\n",
    "    match_id, start, end = matches[0]\n",
    "    span = doc[start:end]\n",
    "    print(f\"Match found: {span.text}, at Position: {start}-{end}\")\n",
    "\n",
    "# Define patterns for social causes\n",
    "social_cause_patterns = [\n",
    "    [{\"LOWER\": \"support\"}, {\"IS_PUNCT\": True, \"OP\": \"?\"}, {\"LOWER\": \"the\"}, {\"LOWER\": \"cause\"}],\n",
    "    [{\"LOWER\": \"raise\"}, {\"LOWER\": \"awareness\"}],\n",
    "    [{\"LOWER\": \"fight\"}, {\"LOWER\": \"against\"}],\n",
    "    [{\"LOWER\": \"advocate\"}, {\"LOWER\": \"for\"}],\n",
    "    [{\"LOWER\": \"social\"}, {\"LOWER\": \"justice\"}],\n",
    "    [{\"LOWER\": \"human\"}, {\"LOWER\": \"rights\"}],\n",
    "    [{\"LOWER\": \"help\"}, {\"LOWER\": \"the\"}, {\"LOWER\": \"poor\"}],\n",
    "    [{\"LOWER\": \"poverty\"}, {\"LOWER\": \"relief\"}],\n",
    "    [{\"LOWER\": \"equality\"}],\n",
    "    [{\"LOWER\": \"environmental\"}, {\"LOWER\": \"protection\"}],\n",
    "    [{\"LOWER\": \"climate\"}, {\"LOWER\": \"change\"}],\n",
    "    [{\"LOWER\": \"political\"}, {\"LOWER\": \"reform\"}],\n",
    "    [{\"LOWER\": \"donate\"}, {\"LOWER\": \"to\"}],\n",
    "    [{\"LOWER\": \"charity\"}],\n",
    "    [{\"LOWER\": \"volunteer\"}, {\"LOWER\": \"for\"}],\n",
    "    [{\"LOWER\": \"fundraiser\"}],\n",
    "    [{\"LOWER\": \"make\"}, {\"LOWER\": \"a\"}, {\"LOWER\": \"difference\"}]\n",
    "]\n",
    "# Add patterns to the matcher with an on_match callback\n",
    "matcher.add(\"SOCIAL_CAUSE\", social_cause_patterns, on_match=on_match_callback)\n"
   ]
  },
  {
   "cell_type": "markdown",
   "id": "b0aa637b-57de-4ca1-a85b-12e96346b1bb",
   "metadata": {},
   "source": [
    "##### Define the PhraseMatcher"
   ]
  },
  {
   "cell_type": "code",
   "execution_count": 83,
   "id": "95ccd10b-7a37-4b56-8c4b-56db8f7457a9",
   "metadata": {},
   "outputs": [],
   "source": [
    "# Initialize PhraseMatcher with the same vocabulary as the nlp object\n",
    "phrase_matcher = PhraseMatcher(nlp.vocab)\n",
    "\n",
    "# Define some phrases related to social causes\n",
    "social_causes_phrases = [nlp(text) for text in [\"climate change\", \"human rights\", \"social justice\"]]\n",
    "\n",
    "# Add the phrases to the PhraseMatcher\n",
    "phrase_matcher.add(\"SOCIAL_CAUSE_PHRASES\", social_causes_phrases)\n"
   ]
  },
  {
   "cell_type": "markdown",
   "id": "6ffdbdca-e7f4-4318-ab73-78d0a32152e9",
   "metadata": {},
   "source": [
    "##### Define Regular Expression Pattern"
   ]
  },
  {
   "cell_type": "code",
   "execution_count": 84,
   "id": "026aa330-439e-4ea5-b5ee-e28e064128da",
   "metadata": {},
   "outputs": [],
   "source": [
    "# Add a regular expression pattern to the matcher\n",
    "matcher.add(\"HASHTAG\", [[{\"TEXT\": {\"REGEX\": \"#\\w+\"}}]])\n"
   ]
  },
  {
   "cell_type": "markdown",
   "id": "da20c927-965a-435a-92fb-92314f0a6155",
   "metadata": {},
   "source": [
    "##### Process Tweets and Extract Matches"
   ]
  },
  {
   "cell_type": "code",
   "execution_count": 85,
   "id": "d948579a-e613-4f03-a8c1-daa82c0c597e",
   "metadata": {},
   "outputs": [
    {
     "name": "stdout",
     "output_type": "stream",
     "text": [
      "Match found: raise awareness, at Position: 24-26\n",
      "Match found: raise awareness, at Position: 24-26\n",
      "Match found: family!#morethanmedicine, at Position: 40-41\n",
      "Match found: family!#morethanmedicine, at Position: 40-41\n",
      "Match found: environmental protection, at Position: 38-40\n",
      "Match found: environmental protection, at Position: 38-40\n",
      "Match found: environmental protection, at Position: 38-40\n",
      "Match found: environmental protection, at Position: 38-40\n",
      "                   Name              Matched Text    Identifier\n",
      "125                NOAH           raise awareness  SOCIAL_CAUSE\n",
      "219         Andy Little  family!#morethanmedicine  SOCIAL_CAUSE\n",
      "220         Drew Kalnow  family!#morethanmedicine  SOCIAL_CAUSE\n",
      "359      Ibrahima KOUMA  environmental protection  SOCIAL_CAUSE\n",
      "380  AnimalhealthEurope  environmental protection  SOCIAL_CAUSE\n"
     ]
    }
   ],
   "source": [
    "# Function to process tweets and extract matches\n",
    "def extract_social_causes(tweet_content):\n",
    "    doc = nlp(tweet_content)\n",
    "    matches = matcher(doc) + phrase_matcher(doc)\n",
    "    matches = sorted(matches, key=lambda x: x[1])  # Sort matches by start index\n",
    "    for match_id, start, end in matches:\n",
    "        on_match_callback(matcher, doc, match_id, [(match_id, start, end)])\n",
    "    return ', '.join([doc[start:end].text for match_id, start, end in matches])\n",
    "\n",
    "# Apply the function to the 'Tweet Content' column\n",
    "tweets_df['Matched Text'] = tweets_df['Tweet Content'].apply(extract_social_causes)\n",
    "\n",
    "# Filter out rows with no matches\n",
    "tweets_with_matches = tweets_df[tweets_df['Matched Text'] != '']\n",
    "\n",
    "# Create a new DataFrame with the relevant columns\n",
    "matches_df = tweets_with_matches[['Name', 'Matched Text']].copy()\n",
    "\n",
    "# Add the 'Identifier' column with the constant value 'SOCIAL_CAUSE'\n",
    "matches_df['Identifier'] = 'SOCIAL_CAUSE'\n",
    "\n",
    "# Display the DataFrame\n",
    "print(matches_df.head())\n",
    "\n",
    "\n",
    "\n"
   ]
  }
 ],
 "metadata": {
  "kernelspec": {
   "display_name": "Python 3 (ipykernel)",
   "language": "python",
   "name": "python3"
  },
  "language_info": {
   "codemirror_mode": {
    "name": "ipython",
    "version": 3
   },
   "file_extension": ".py",
   "mimetype": "text/x-python",
   "name": "python",
   "nbconvert_exporter": "python",
   "pygments_lexer": "ipython3",
   "version": "3.9.18"
  }
 },
 "nbformat": 4,
 "nbformat_minor": 5
}
